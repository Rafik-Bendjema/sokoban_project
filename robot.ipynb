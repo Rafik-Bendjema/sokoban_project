{
 "cells": [
  {
   "cell_type": "code",
   "execution_count": 1,
   "metadata": {},
   "outputs": [
    {
     "name": "stdout",
     "output_type": "stream",
     "text": [
      "pygame 2.6.1 (SDL 2.28.4, Python 3.10.14)\n",
      "Hello from the pygame community. https://www.pygame.org/contribute.html\n"
     ]
    }
   ],
   "source": [
    "import pygame\n",
    "import sys\n",
    "from Player import Player\n",
    "from box import Box\n",
    "from SokobanPuzzle import SokobanPuzzle"
   ]
  },
  {
   "cell_type": "code",
   "execution_count": 2,
   "metadata": {},
   "outputs": [
    {
     "name": "stdout",
     "output_type": "stream",
     "text": [
      "Testing Board 1\n",
      "actions : $['UP', 'DOWN', 'LEFT', 'RIGHT']\n",
      "Testing Board 2\n",
      "actions : $[]\n",
      "Testing Board 3\n",
      "actions : $['UP', 'DOWN', 'LEFT']\n",
      "Testing Board 4\n",
      "actions : $['UP', 'DOWN', 'LEFT', 'RIGHT']\n",
      "Testing Board 5\n",
      "actions : $['UP', 'DOWN', 'LEFT', 'RIGHT']\n",
      "Testing Board 6\n",
      "actions : $['UP', 'DOWN', 'LEFT']\n"
     ]
    }
   ],
   "source": [
    "from SokobanPuzzle import SokobanPuzzle\n",
    "board1 = [\n",
    "    [' ', ' ', ' '],\n",
    "    [' ', 'R', ' '],\n",
    "    [' ', ' ', ' ']\n",
    "]\n",
    "\n",
    "\n",
    "\n",
    "board2 = [\n",
    "    ['O', 'O', 'O'],\n",
    "    ['O', 'R', 'O'],\n",
    "    ['O', 'O', 'O']\n",
    "]\n",
    "\n",
    "\n",
    "\n",
    "board3 = [\n",
    "    [' ', ' ', ' '],\n",
    "    [' ', 'R', 'B'],\n",
    "    [' ', ' ', ' ']\n",
    "]\n",
    "\n",
    "\n",
    "\n",
    "board4 = [\n",
    "    [' ', ' ', ' '],\n",
    "    [' ', 'R', 'B', 'S'],\n",
    "    [' ', ' ', ' ']\n",
    "]\n",
    "\n",
    "\n",
    "\n",
    "board5 = [\n",
    "    [' ', ' ', ' '],\n",
    "    [' ', '.', ' '],\n",
    "    [' ', ' ', ' ']\n",
    "]\n",
    "\n",
    "\n",
    "\n",
    "board6 = [\n",
    "    [' ', ' ', ' '],\n",
    "    [' ', 'R', '*'],\n",
    "    [' ', ' ', ' ']\n",
    "]\n",
    "\n",
    "\n",
    "\n",
    "\n",
    "test_boards = [board1, board2, board3, board4, board5, board6]\n",
    "\n",
    "for i, board in enumerate(test_boards):\n",
    "    actions = []\n",
    "    puzzle = SokobanPuzzle(board)\n",
    "    puzzle.player_pos = (1, 1)  \n",
    "    print(f\"Testing Board {i + 1}\")\n",
    "    successors = puzzle.successorFunction()\n",
    "    for action, successor in successors:\n",
    "        actions.append(action)\n",
    "    print(f\"actions : ${actions}\")\n",
    "        "
   ]
  },
  {
   "cell_type": "markdown",
   "metadata": {},
   "source": []
  },
  {
   "cell_type": "code",
   "execution_count": null,
   "metadata": {},
   "outputs": [],
   "source": [
    "from Node import Node\n",
    "init = Node(SokobanPuzzle(board4))"
   ]
  },
  {
   "cell_type": "code",
   "execution_count": 2,
   "metadata": {},
   "outputs": [],
   "source": [
    "# map 1\n",
    "game_map = [\n",
    "    ['O','O','O','O','O','O'],\n",
    "    ['O','S',' ','B',' ','O'],\n",
    "    ['O',' ','O','R',' ','O'],\n",
    "    ['O',' ',' ',' ',' ',' '],\n",
    "    ['O',' ',' ',' ',' ',' '],\n",
    "    ['O','O','O','O','O','O']\n",
    "]"
   ]
  },
  {
   "cell_type": "code",
   "execution_count": null,
   "metadata": {},
   "outputs": [],
   "source": [
    "# map 2\n",
    "game_map = [\n",
    "    ['O', 'O', 'O', 'O','O' , 'O', 'O' , 'O' 'O'],\n",
    "    ['O', ' ', ' ', ' ',' ' , ' ', ' ' , ' ' 'O'],\n",
    "    ['O', ' ', ' ', ' ',' ' , ' ', ' ' , ' ' 'O'],\n",
    "    ['O', ' ', ' ', 'O','O' , 'O', ' ' , ' ' 'O'],\n",
    "    ['O', ' ', ' ', ' ',' ' , 'O', '.' , ' ' 'O'],\n",
    "    ['O', ' ', ' ', ' ',' ' , ' ', 'O' , ' ' 'O'],\n",
    "    ['O', ' ', ' ', 'B',' ' , ' ', 'O' , ' ' 'O'],\n",
    "    ['O', ' ', ' ', ' ',' ' , ' ', 'O' , ' ' 'O'],\n",
    "    ['O', 'O', 'O', 'O','O' , 'O', 'O' , 'O' 'O']\n",
    "]\n"
   ]
  },
  {
   "cell_type": "code",
   "execution_count": 2,
   "metadata": {},
   "outputs": [],
   "source": [
    "# map 3\n",
    "game_map = [\n",
    "    ['O', 'O', 'O', 'O','O','O','O','O'],\n",
    "    ['O', ' ', ' ', ' ','O',' ',' ','O'],\n",
    "    ['O', ' ', ' ', 'B','R',' ',' ','O'],\n",
    "    ['O', ' ', ' ', ' ','O','B',' ','O'],\n",
    "    ['O', 'O', 'O', 'O','O',' ','S','O'],\n",
    "    ['O', 'O', 'O', 'O','O',' ','S','O'],\n",
    "    ['O', 'O', 'O', 'O','O','O','O','O']\n",
    "\n",
    "]"
   ]
  },
  {
   "cell_type": "code",
   "execution_count": 2,
   "metadata": {},
   "outputs": [],
   "source": [
    "# map 4\n",
    "game_map = [\n",
    "    ['O', 'O', 'O', 'O','O','O','O'],\n",
    "    ['O', 'O', ' ', ' ','O','O','O'],\n",
    "    ['O', 'O', ' ', ' ','O','O','O'],\n",
    "    ['O', 'O', ' ', '*',' ',' ','O'],\n",
    "    ['O', 'O', 'B', 'O','B',' ','O'],\n",
    "    ['O', ' ', 'S', 'R','S',' ','O'],\n",
    "    ['O', ' ', ' ', ' ',' ','O','O'],\n",
    "    ['O', 'O', 'O', ' ',' ','O','O'],\n",
    "    ['O', 'O', 'O', 'O','O','O','O']\n",
    "]"
   ]
  },
  {
   "cell_type": "code",
   "execution_count": 2,
   "metadata": {},
   "outputs": [],
   "source": [
    "# map 5\n",
    "game_map = [\n",
    "    ['O', 'O', 'O', 'O','O','O','O','O','O'],\n",
    "    ['O', 'O', 'O', 'S','O',' ',' ','O','O'],\n",
    "    ['O', ' ', ' ', ' ',' ','B',' ','O','O'],\n",
    "    ['O', ' ', 'B', ' ','R',' ',' ','S','O'],\n",
    "    ['O', 'O', 'O', ' ','O',' ','O','O','O'],\n",
    "    ['O', 'O', 'O', 'B','O',' ','O','O','O'],\n",
    "    ['O', 'O', 'O', ' ',' ',' ','S','O','O'],\n",
    "    ['O', 'O', 'O', 'O','O','O','O','O','O']\n",
    "]"
   ]
  },
  {
   "cell_type": "code",
   "execution_count": 3,
   "metadata": {},
   "outputs": [
    {
     "name": "stdout",
     "output_type": "stream",
     "text": [
      "--- 7.570428371429443 seconds ---\n"
     ]
    },
    {
     "ename": "SystemExit",
     "evalue": "",
     "output_type": "error",
     "traceback": [
      "An exception has occurred, use %tb to see the full traceback.\n",
      "\u001b[1;31mSystemExit\u001b[0m\n"
     ]
    },
    {
     "name": "stderr",
     "output_type": "stream",
     "text": [
      "c:\\Users\\ramin\\anaconda3\\envs\\tensorflowgpu\\lib\\site-packages\\IPython\\core\\interactiveshell.py:3585: UserWarning: To exit: use 'exit', 'quit', or Ctrl-D.\n",
      "  warn(\"To exit: use 'exit', 'quit', or Ctrl-D.\", stacklevel=1)\n"
     ]
    }
   ],
   "source": [
    "import pygame\n",
    "import sys\n",
    "from SokobanPuzzle import SokobanPuzzle\n",
    "from Node import Node\n",
    "\n",
    "# Define the game map\n",
    "\n",
    "\n",
    "pygame.init()\n",
    "\n",
    "width, height = len(game_map[0]) * 100, len(game_map) * 100\n",
    "screen = pygame.display.set_mode((width, height))\n",
    "pygame.display.set_caption(\"Game Example\")\n",
    "\n",
    "# Load images\n",
    "player_img = pygame.image.load('assets/player.png')\n",
    "player_img = pygame.transform.scale(player_img, (100, 100))\n",
    "\n",
    "blue_square_image = pygame.image.load('assets/obstacle.png')\n",
    "blue_square_image = pygame.transform.scale(blue_square_image, (100, 100))\n",
    "\n",
    "box_image = pygame.image.load('assets/box.png')\n",
    "box_image = pygame.transform.scale(box_image, (100, 100))\n",
    "\n",
    "storage_image = pygame.image.load('assets/storage.png')\n",
    "storage_image = pygame.transform.scale(storage_image, (100, 100))\n",
    "\n",
    "def tint_image(original_image, color):\n",
    "    # Create a new surface with the same size and alpha channel\n",
    "    tinted_image = original_image.copy()\n",
    "    # Fill the surface with the color\n",
    "    tinted_image.fill(color, special_flags=pygame.BLEND_RGBA_MULT)\n",
    "    return tinted_image\n",
    "\n",
    "# Initialize the Sokoban puzzle and states\n",
    "sokoban_puzzle = SokobanPuzzle(game_map)\n",
    "init_node = Node(sokoban_puzzle)\n",
    "states = init_node.getStates()\n",
    "states.insert(0, game_map)\n",
    "\n",
    "# Variables to control the game loop\n",
    "running = True\n",
    "current_state_index = 0\n",
    "state_display_delay = 1000  # milliseconds\n",
    "last_state_change_time = pygame.time.get_ticks()\n",
    "font = pygame.font.Font(None, 74)  # None uses the default font; 74 is font size\n",
    "\n",
    "\n",
    "# Main game loop\n",
    "while running:\n",
    "    for event in pygame.event.get():\n",
    "        if event.type == pygame.QUIT:\n",
    "            running = False\n",
    "    \n",
    "    # Update only if enough time has passed\n",
    "    current_time = pygame.time.get_ticks()\n",
    "    if current_time - last_state_change_time > state_display_delay:\n",
    "        # Move to the next state\n",
    "        if current_state_index < len(states) - 1:\n",
    "            current_state_index += 1\n",
    "            game_map = states[current_state_index]\n",
    "            last_state_change_time = current_time\n",
    "        else:\n",
    "                screen.fill((0,0,0))  # Fill the screen with black\n",
    "                text = font.render(\"Game Over\", True, (255, 0 ,0))  # Render \"Game Over\" text in red\n",
    "                text_rect = text.get_rect(center=(width // 2, height // 2))\n",
    "                screen.blit(text, text_rect)  # Draw the text on the screen\n",
    "\n",
    "                # Update display to show \"Game Over\" message\n",
    "                pygame.display.flip()\n",
    "\n",
    "                # Wait for user to quit or restart\n",
    "                waiting = True\n",
    "                while waiting:\n",
    "                    for event in pygame.event.get():\n",
    "                        if event.type == pygame.QUIT:  # Exit the game\n",
    "                            pygame.quit()\n",
    "                            sys.exit()\n",
    "                        elif event.type == pygame.KEYDOWN:  # Restart on key press\n",
    "                            if event.key == pygame.K_r:  # Press 'R' to restart\n",
    "                                waiting = False\n",
    "\n",
    "    # Clear the screen\n",
    "    screen.fill((0, 0, 0))\n",
    "\n",
    "    # Draw the current state of the game map\n",
    "    for j in range(len(game_map)):\n",
    "        for i in range(len(game_map[j])):\n",
    "            if game_map[j][i] == 'O':\n",
    "                screen.blit(blue_square_image, (100 * i, 100 * j))\n",
    "            elif game_map[j][i] == 'S':\n",
    "                screen.blit(storage_image, (100 * i, 100 * j))\n",
    "            elif game_map[j][i] == 'B':\n",
    "                screen.blit(box_image, (100 * i, 100 * j))\n",
    "            elif game_map[j][i] == 'R':\n",
    "                screen.blit(player_img, (100 * i, 100 * j))\n",
    "            elif game_map[j][i] == '.':\n",
    "                screen.blit(storage_image, (100 * i, 100 * j))\n",
    "                screen.blit(player_img, (100 * i, 100 * j))\n",
    "            elif game_map[j][i] == '*':\n",
    "                colored_box_image = tint_image(box_image, (255, 255, 0, 255))  # Red tint\n",
    "                screen.blit(colored_box_image, (100 * i, 100 * j))\n",
    "    \n",
    "    # Update the display\n",
    "    pygame.display.flip()\n",
    "\n",
    "pygame.quit()\n",
    "sys.exit()\n"
   ]
  },
  {
   "cell_type": "code",
   "execution_count": 1,
   "metadata": {},
   "outputs": [
    {
     "name": "stdout",
     "output_type": "stream",
     "text": [
      "pygame 2.6.1 (SDL 2.28.4, Python 3.11.2)\n",
      "Hello from the pygame community. https://www.pygame.org/contribute.html\n",
      "this is row $0 and this is cell $0\n",
      "this is row $0 and this is cell $1\n",
      "this is row $0 and this is cell $2\n",
      "this is row $0 and this is cell $3\n",
      "this is row $0 and this is cell $4\n",
      "this is row $1 and this is cell $0\n",
      "this is row $1 and this is cell $1\n",
      "this is row $1 and this is cell $2\n",
      "this is row $1 and this is cell $3\n",
      "this is row $1 and this is cell $4\n",
      "this is row $2 and this is cell $0\n",
      "this is row $2 and this is cell $1\n",
      "this is row $2 and this is cell $2\n",
      "this is row $2 and this is cell $3\n",
      "this is row $2 and this is cell $4\n",
      "this is row $3 and this is cell $0\n",
      "this is row $3 and this is cell $1\n",
      "this is row $3 and this is cell $2\n",
      "this is row $3 and this is cell $3\n",
      "this is row $3 and this is cell $4\n",
      "True\n"
     ]
    }
   ],
   "source": [
    "from SokobanPuzzle import SokobanPuzzle\n",
    "game_map = [\n",
    "    ['O', 'O', 'O', 'O', 'O'],\n",
    "    ['O', 'R', ' ', 'S', 'O'],\n",
    "    ['O', ' ', 'B', ' ', 'O'],\n",
    "    ['O', 'O', 'O', 'O', 'O']\n",
    "]\n",
    "soko = SokobanPuzzle(game_map)\n",
    "print(soko.isDeadBlock())"
   ]
  },
  {
   "cell_type": "code",
   "execution_count": 2,
   "metadata": {},
   "outputs": [],
   "source": [
    "game_map = [\n",
    "    ['O', 'O', 'O', 'O','O' , 'O', 'O' , 'O' 'O'],\n",
    "    ['O', ' ', ' ', ' ',' ' , ' ', ' ' , ' ' 'O'],\n",
    "    ['O', ' ', ' ', ' ',' ' , ' ', ' ' , ' ' 'O'],\n",
    "    ['O', ' ', ' ', 'O','O' , 'O', ' ' , ' ' 'O'],\n",
    "    ['O', ' ', ' ', ' ',' ' , 'O', '.' , ' ' 'O'],\n",
    "    ['O', ' ', ' ', ' ',' ' , ' ', 'O' , ' ' 'O'],\n",
    "    ['O', ' ', ' ', 'B',' ' , ' ', 'O' , ' ' 'O'],\n",
    "    ['O', ' ', ' ', ' ',' ' , ' ', 'O' , ' ' 'O'],\n",
    "    ['O', 'O', 'O', 'O','O' , 'O', 'O' , 'O' 'O']\n",
    "]\n"
   ]
  },
  {
   "cell_type": "code",
   "execution_count": null,
   "metadata": {},
   "outputs": [],
   "source": [
    "0.4640042781829834\n",
    "0.17501354217529297"
   ]
  },
  {
   "cell_type": "code",
   "execution_count": null,
   "metadata": {},
   "outputs": [],
   "source": [
    "0.06449317932128906 "
   ]
  },
  {
   "cell_type": "code",
   "execution_count": null,
   "metadata": {},
   "outputs": [],
   "source": []
  }
 ],
 "metadata": {
  "kernelspec": {
   "display_name": "env",
   "language": "python",
   "name": "python3"
  },
  "language_info": {
   "codemirror_mode": {
    "name": "ipython",
    "version": 3
   },
   "file_extension": ".py",
   "mimetype": "text/x-python",
   "name": "python",
   "nbconvert_exporter": "python",
   "pygments_lexer": "ipython3",
   "version": "3.10.14"
  }
 },
 "nbformat": 4,
 "nbformat_minor": 2
}
